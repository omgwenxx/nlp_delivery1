{
 "cells": [
  {
   "cell_type": "markdown",
   "id": "fac73b6a",
   "metadata": {},
   "source": [
    "If there are random parts in the code, make sure to have seeds to make your results\n",
    "reproducible.\\\n",
    "This notebook should contain TRAIN, VALIDATION results of ROC AUC (`sklearn.metrics.roc_auc_score`).\\\n",
    "Optional: TEST results can be obtained sending results to Kaggle\\\n",
    "This notebook does not have to train anything.\\\n",
    "It should be relatively fast to execute (probably less than 10 minutes since there is no\n",
    "training).\n",
    "This notebook should only load from disk trained models, make predictions and compute\n",
    "metrics."
   ]
  },
  {
   "cell_type": "code",
   "execution_count": 3,
   "id": "a1c9b380",
   "metadata": {},
   "outputs": [
    {
     "name": "stdout",
     "output_type": "stream",
     "text": [
      "tr_df.shape= (291897, 6)\n",
      "va_df.shape= (15363, 6)\n",
      "te_df.shape= (16172, 6)\n"
     ]
    }
   ],
   "source": [
    "import pickle # to load model\n",
    "from sklearn.metrics import roc_auc_score\n",
    "import pandas as pd\n",
    "from utils import *\n",
    "from sklearn.model_selection import train_test_split\n",
    "RANDOM_SEED = 123 # taken from train models\n",
    "\n",
    "# load in quora datasets\n",
    "# use this to train and VALIDATE your solution\n",
    "data = pd.read_csv(\"./quora_train_data.csv\")\n",
    "\n",
    "A_df, test_df, y_A, y_test = train_test_split(data, data[\"is_duplicate\"].values, test_size=0.05, random_state=RANDOM_SEED)\n",
    "train_df, va_df, y_train, y_val = train_test_split(A_df,y_A, test_size=0.05, random_state=RANDOM_SEED)\n",
    "\n",
    "print('tr_df.shape=',train_df.shape) # tr_df.shape= (307260, 156550)\n",
    "print('va_df.shape=',va_df.shape) # va_df.shape= (16172, 156550)\n",
    "print('te_df.shape=',test_df.shape) # te_df.shape= (80858, 156550)"
   ]
  },
  {
   "cell_type": "code",
   "execution_count": 7,
   "id": "6f0772af",
   "metadata": {},
   "outputs": [],
   "source": [
    "# load the model from disk\n",
    "filename=\"logreg.sav\"\n",
    "with open(filename, 'rb') as f:\n",
    "    count_vectorizer, logistic = pickle.load(f)"
   ]
  },
  {
   "cell_type": "code",
   "execution_count": 8,
   "id": "24f947b3",
   "metadata": {},
   "outputs": [
    {
     "name": "stdout",
     "output_type": "stream",
     "text": [
      "Validation Results\n",
      "Val ROC-AUC: 0.720\n",
      "\n",
      "Test Results\n",
      "Test ROC-AUC: 0.729\n"
     ]
    }
   ],
   "source": [
    "# preprocess data in order to predict\n",
    "from sklearn.metrics import roc_auc_score\n",
    "# Validation\n",
    "print(\"Validation Results\")\n",
    "va_df_prep = get_features_from_df(va_df,count_vectorizer)\n",
    "predictions = logistic.predict(va_df_prep)\n",
    "result = roc_auc_score(y_val, predictions)\n",
    "print(\"Val ROC-AUC: %.3f\"%(result))\n",
    "      \n",
    "# Test   \n",
    "print(\"\\nTest Results\")\n",
    "te_df_prep = get_features_from_df(test_df,count_vectorizer)\n",
    "predictions = logistic.predict(te_df_prep)\n",
    "result = roc_auc_score(test_df[\"is_duplicate\"].values, predictions)\n",
    "print(\"Test ROC-AUC: %.3f\"%(result))"
   ]
  },
  {
   "cell_type": "markdown",
   "id": "00b53abd",
   "metadata": {},
   "source": [
    "### Improved version using cosine similiarity\n",
    "Our manually written preprocess function is very inefficient and takes quite long to run, instead we use CountVectorizer with similar hyperparameters."
   ]
  },
  {
   "cell_type": "code",
   "execution_count": 10,
   "id": "52dbe957",
   "metadata": {},
   "outputs": [
    {
     "name": "stdout",
     "output_type": "stream",
     "text": [
      "Train Results\n",
      "Train ROC-AUC: 0.672\n"
     ]
    }
   ],
   "source": [
    "# Train Set Performance\n",
    "train_results = pd.read_csv(\"train_cosine_similiarity.csv\")\n",
    "print(\"Train Results\")\n",
    "predictions = np.where(train_results > 0.5,1,0)\n",
    "# result = roc_auc_score(y_train[:SUBSET], predictions)\n",
    "result = roc_auc_score(y_train, predictions)\n",
    "print(\"Train ROC-AUC: %.3f\"%(result))"
   ]
  },
  {
   "cell_type": "code",
   "execution_count": 12,
   "id": "94d0dc0c",
   "metadata": {},
   "outputs": [
    {
     "name": "stdout",
     "output_type": "stream",
     "text": [
      "Validation Results\n",
      "Val ROC-AUC: 0.669\n",
      "\n",
      "Test Results\n",
      "Test ROC-AUC: 0.668\n"
     ]
    }
   ],
   "source": [
    "# Validation\n",
    "print(\"Validation Results\")\n",
    "val_results = pd.read_csv(\"val_cosine_similiarity.csv\")\n",
    "predictions = np.where(val_results > 0.5,1,0)\n",
    "result = roc_auc_score(y_val, predictions)\n",
    "print(\"Val ROC-AUC: %.3f\"%(result))\n",
    "      \n",
    "# Test   \n",
    "print(\"\\nTest Results\")\n",
    "test_results = pd.read_csv(\"test_cosine_similiarity.csv\")\n",
    "predictions = np.where(test_results > 0.5,1,0)\n",
    "result = roc_auc_score(test_df[\"is_duplicate\"].values, predictions)\n",
    "print(\"Test ROC-AUC: %.3f\"%(result))"
   ]
  },
  {
   "cell_type": "markdown",
   "id": "312098dc",
   "metadata": {},
   "source": [
    "### Improved version using cosine similiarity and tf-idf"
   ]
  },
  {
   "cell_type": "code",
   "execution_count": 17,
   "id": "37b29a91",
   "metadata": {},
   "outputs": [
    {
     "name": "stdout",
     "output_type": "stream",
     "text": [
      "Train Results\n",
      "Train ROC-AUC: 0.675\n",
      "\n",
      "Validation Results\n",
      "Val ROC-AUC: 0.666\n",
      "\n",
      "Test Results\n",
      "Test ROC-AUC: 0.669\n"
     ]
    }
   ],
   "source": [
    "# Train Set Performance\n",
    "train_results = pd.read_csv(\"train_tfidf_cos.csv\")\n",
    "print(\"Train Results\")\n",
    "predictions = np.where(train_results > 0.5,1,0)\n",
    "# result = roc_auc_score(y_train[:SUBSET], predictions)\n",
    "result = roc_auc_score(y_train, predictions)\n",
    "print(\"Train ROC-AUC: %.3f\"%(result))\n",
    "\n",
    "# Validation\n",
    "print(\"\\nValidation Results\")\n",
    "val_results = pd.read_csv(\"val_tfidf_cos.csv\")\n",
    "predictions = np.where(val_results > 0.5,1,0)\n",
    "result = roc_auc_score(y_val, predictions)\n",
    "print(\"Val ROC-AUC: %.3f\"%(result))\n",
    "      \n",
    "# Test   \n",
    "print(\"\\nTest Results\")\n",
    "test_results = pd.read_csv(\"test_tfidf_cos.csv\")\n",
    "predictions = np.where(test_results > 0.5,1,0)\n",
    "result = roc_auc_score(test_df[\"is_duplicate\"].values, predictions)\n",
    "print(\"Test ROC-AUC: %.3f\"%(result))"
   ]
  },
  {
   "cell_type": "code",
   "execution_count": null,
   "id": "717e9815",
   "metadata": {},
   "outputs": [],
   "source": []
  }
 ],
 "metadata": {
  "kernelspec": {
   "display_name": "Python 3 (ipykernel)",
   "language": "python",
   "name": "python3"
  },
  "language_info": {
   "codemirror_mode": {
    "name": "ipython",
    "version": 3
   },
   "file_extension": ".py",
   "mimetype": "text/x-python",
   "name": "python",
   "nbconvert_exporter": "python",
   "pygments_lexer": "ipython3",
   "version": "3.9.7"
  }
 },
 "nbformat": 4,
 "nbformat_minor": 5
}
