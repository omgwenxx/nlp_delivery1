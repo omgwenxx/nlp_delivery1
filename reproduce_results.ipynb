{
 "cells": [
  {
   "cell_type": "markdown",
   "id": "fac73b6a",
   "metadata": {},
   "source": [
    "If there are random parts in the code, make sure to have seeds to make your results\n",
    "reproducible.\\\n",
    "This notebook should contain TRAIN, VALIDATION results of ROC AUC (`sklearn.metrics.roc_auc_score`).\\\n",
    "Optional: TEST results can be obtained sending results to Kaggle\\\n",
    "This notebook does not have to train anything.\\\n",
    "It should be relatively fast to execute (probably less than 10 minutes since there is no\n",
    "training).\n",
    "This notebook should only load from disk trained models, make predictions and compute\n",
    "metrics."
   ]
  },
  {
   "cell_type": "code",
   "execution_count": null,
   "id": "a1c9b380",
   "metadata": {},
   "outputs": [],
   "source": []
  }
 ],
 "metadata": {
  "kernelspec": {
   "display_name": "Python 3 (ipykernel)",
   "language": "python",
   "name": "python3"
  },
  "language_info": {
   "codemirror_mode": {
    "name": "ipython",
    "version": 3
   },
   "file_extension": ".py",
   "mimetype": "text/x-python",
   "name": "python",
   "nbconvert_exporter": "python",
   "pygments_lexer": "ipython3",
   "version": "3.9.7"
  }
 },
 "nbformat": 4,
 "nbformat_minor": 5
}
