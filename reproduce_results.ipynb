{
 "cells": [
  {
   "cell_type": "markdown",
   "id": "fac73b6a",
   "metadata": {},
   "source": [
    "If there are random parts in the code, make sure to have seeds to make your results\n",
    "reproducible.\\\n",
    "This notebook should contain TRAIN, VALIDATION results of ROC AUC (`sklearn.metrics.roc_auc_score`).\\\n",
    "Optional: TEST results can be obtained sending results to Kaggle\\\n",
    "This notebook does not have to train anything.\\\n",
    "It should be relatively fast to execute (probably less than 10 minutes since there is no\n",
    "training).\n",
    "This notebook should only load from disk trained models, make predictions and compute\n",
    "metrics."
   ]
  },
  {
   "cell_type": "code",
   "execution_count": 15,
   "id": "a1c9b380",
   "metadata": {},
   "outputs": [],
   "source": [
    "import pickle # to load model\n",
    "from sklearn.metrics import roc_auc_score\n",
    "import pandas as pd\n",
    "from utils import *\n",
    "from sklearn.model_selection import train_test_split\n",
    "RANDOM_SEED = 123 # taken from train models\n",
    "\n",
    "# load in quora datasets\n",
    "# use this to train and VALIDATE your solution\n",
    "train_df = pd.read_csv(\"./quora_train_data.csv\")\n",
    "\n",
    "# use this to provide the expected generalization results\n",
    "test_df = pd.read_csv(\"./quora_test_data.csv\")"
   ]
  },
  {
   "cell_type": "code",
   "execution_count": 16,
   "id": "6553d1ee",
   "metadata": {},
   "outputs": [
    {
     "name": "stdout",
     "output_type": "stream",
     "text": [
      "tr_df.shape= (291897, 156550)\n",
      "va_df.shape= (15363, 156550)\n",
      "te_df.shape= (16172, 156550)\n"
     ]
    }
   ],
   "source": [
    "train_df, test_df = simple_preprocess(train_df, test_df)\n",
    "A_df, te_df = train_test_split(train_df, test_size=0.05, random_state=RANDOM_SEED)\n",
    "tr_df, va_df = train_test_split(A_df, test_size=0.05, random_state=RANDOM_SEED)\n",
    "print('tr_df.shape=',tr_df.shape) # tr_df.shape= (307260, 156550)\n",
    "print('va_df.shape=',va_df.shape) # va_df.shape= (16172, 156550)\n",
    "print('te_df.shape=',te_df.shape) # te_df.shape= (80858, 156550)"
   ]
  },
  {
   "cell_type": "code",
   "execution_count": 12,
   "id": "24f947b3",
   "metadata": {},
   "outputs": [
    {
     "ename": "AttributeError",
     "evalue": "'LogisticRegression' object has no attribute 'roc_auc_score'",
     "output_type": "error",
     "traceback": [
      "\u001b[1;31m---------------------------------------------------------------------------\u001b[0m",
      "\u001b[1;31mAttributeError\u001b[0m                            Traceback (most recent call last)",
      "\u001b[1;32m~\\AppData\\Local\\Temp/ipykernel_16204/2965871096.py\u001b[0m in \u001b[0;36m<module>\u001b[1;34m\u001b[0m\n\u001b[0;32m      2\u001b[0m \u001b[0mfilename\u001b[0m\u001b[1;33m=\u001b[0m\u001b[1;34m\"logreg.sav\"\u001b[0m\u001b[1;33m\u001b[0m\u001b[1;33m\u001b[0m\u001b[0m\n\u001b[0;32m      3\u001b[0m \u001b[0mloaded_model\u001b[0m \u001b[1;33m=\u001b[0m \u001b[0mpickle\u001b[0m\u001b[1;33m.\u001b[0m\u001b[0mload\u001b[0m\u001b[1;33m(\u001b[0m\u001b[0mopen\u001b[0m\u001b[1;33m(\u001b[0m\u001b[0mfilename\u001b[0m\u001b[1;33m,\u001b[0m \u001b[1;34m'rb'\u001b[0m\u001b[1;33m)\u001b[0m\u001b[1;33m)\u001b[0m\u001b[1;33m\u001b[0m\u001b[1;33m\u001b[0m\u001b[0m\n\u001b[1;32m----> 4\u001b[1;33m \u001b[0mresult\u001b[0m \u001b[1;33m=\u001b[0m \u001b[0mloaded_model\u001b[0m\u001b[1;33m.\u001b[0m\u001b[0mroc_auc_score\u001b[0m\u001b[1;33m(\u001b[0m\u001b[0mX_test\u001b[0m\u001b[1;33m,\u001b[0m \u001b[0mY_test\u001b[0m\u001b[1;33m)\u001b[0m\u001b[1;33m\u001b[0m\u001b[1;33m\u001b[0m\u001b[0m\n\u001b[0m\u001b[0;32m      5\u001b[0m \u001b[0mprint\u001b[0m\u001b[1;33m(\u001b[0m\u001b[0mresult\u001b[0m\u001b[1;33m)\u001b[0m\u001b[1;33m\u001b[0m\u001b[1;33m\u001b[0m\u001b[0m\n",
      "\u001b[1;31mAttributeError\u001b[0m: 'LogisticRegression' object has no attribute 'roc_auc_score'"
     ]
    }
   ],
   "source": [
    "# load the model from disk\n",
    "filename=\"logreg.sav\"\n",
    "loaded_model = pickle.load(open(filename, 'rb'))\n",
    "\n",
    "# preprocess data in order to predict\n",
    "from sklearn.metrics import roc_auc_score\n",
    "# Validation\n",
    "print(\"Validation Results\")\n",
    "predictions = logistic.predict(va_df)\n",
    "result = roc_auc_score(y_val, predictions)\n",
    "print(\"Val ROC-AUC: %.3f\"%(result))\n",
    "      \n",
    "# Test   \n",
    "print(\"\\nTest Results\")\n",
    "predictions = logistic.predict(X_te_q1q2)\n",
    "result = roc_auc_score(test_df[\"is_duplicate\"].values, predictions)\n",
    "print(\"Test ROC-AUC: %.3f\"%(result))"
   ]
  },
  {
   "cell_type": "code",
   "execution_count": null,
   "id": "2d6c48da",
   "metadata": {},
   "outputs": [],
   "source": []
  }
 ],
 "metadata": {
  "kernelspec": {
   "display_name": "Python 3 (ipykernel)",
   "language": "python",
   "name": "python3"
  },
  "language_info": {
   "codemirror_mode": {
    "name": "ipython",
    "version": 3
   },
   "file_extension": ".py",
   "mimetype": "text/x-python",
   "name": "python",
   "nbconvert_exporter": "python",
   "pygments_lexer": "ipython3",
   "version": "3.9.7"
  }
 },
 "nbformat": 4,
 "nbformat_minor": 5
}
